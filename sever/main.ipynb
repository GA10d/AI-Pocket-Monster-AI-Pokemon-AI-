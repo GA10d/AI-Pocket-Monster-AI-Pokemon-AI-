{
 "cells": [
  {
   "cell_type": "code",
   "execution_count": 1,
   "metadata": {},
   "outputs": [],
   "source": [
    "import asyncio\n",
    "import json\n",
    "from const import*"
   ]
  },
  {
   "cell_type": "code",
   "execution_count": 2,
   "metadata": {},
   "outputs": [],
   "source": [
    "class AsyncClient(object):\n",
    "    def __init__(self, ip, port):\n",
    "        self.ip = ip\n",
    "        self.port = port\n",
    "        self.port = port\n",
    "\n",
    "    async def c2s(self, message):\n",
    "        reader, writer = await asyncio.open_connection(self.ip, self.port)\n",
    "        data = json.dumps(message).encode('utf-8')\n",
    "        writer.write(data)\n",
    "        await writer.drain()"
   ]
  },
  {
   "cell_type": "code",
   "execution_count": 3,
   "metadata": {},
   "outputs": [
    {
     "name": "stdout",
     "output_type": "stream",
     "text": [
      "<_WindowsSelectorEventLoop running=True closed=False debug=False>\n",
      "服务器已启动，监听端口： 8888\n"
     ]
    }
   ],
   "source": [
    "async def handel_client(reader, writer):\n",
    "    data = await reader.read(MAX_BYTES)\n",
    "    print(data)\n",
    "\n",
    "\n",
    "async def main():\n",
    "    # 创建一个事件循环对象\n",
    "    server = await asyncio.start_server(handel_client, '127.0.0.1',LISTEN_PORT)\n",
    "    print('服务器已启动，监听端口：', LISTEN_PORT)\n",
    "    async with server:\n",
    "        await server.serve_forever()\n",
    "    # 获取服务器对象\n",
    "loop = asyncio.get_event_loop()\n",
    "print(loop)\n",
    "\n",
    "await main()"
   ]
  }
 ],
 "metadata": {
  "kernelspec": {
   "display_name": "ai_dev",
   "language": "python",
   "name": "python3"
  },
  "language_info": {
   "codemirror_mode": {
    "name": "ipython",
    "version": 3
   },
   "file_extension": ".py",
   "mimetype": "text/x-python",
   "name": "python",
   "nbconvert_exporter": "python",
   "pygments_lexer": "ipython3",
   "version": "3.12.2"
  }
 },
 "nbformat": 4,
 "nbformat_minor": 2
}
